{
 "cells": [
  {
   "cell_type": "code",
   "execution_count": 39,
   "metadata": {},
   "outputs": [],
   "source": [
    "import keras\n",
    "from keras.layers import Conv2D, Input, Activation, Dropout, Flatten, Dense, BatchNormalization, Reshape, UpSampling2D\n",
    "from keras.models import Model\n",
    "from keras.initializers import RandomNormal\n",
    "import keras.backend as K\n",
    "import numpy as np"
   ]
  },
  {
   "cell_type": "code",
   "execution_count": 36,
   "metadata": {},
   "outputs": [],
   "source": [
    "class Gan():\n",
    "    \n",
    "    def __init__(self, input_size):\n",
    "        \n",
    "        self.input_size = input_size\n",
    "        \n",
    "        # Discriminator\n",
    "                \n",
    "        dis_conv_filters = [64, 64, 128, 128]\n",
    "        dis_conv_kernel = [5, 5, 5, 5]\n",
    "        dis_conv_strides = [2, 2, 2, 1]\n",
    "        dis_dropout = 0.4\n",
    "        dis_momentum = 0.9\n",
    "        dis_lr = 0.0008\n",
    "        \n",
    "        dis_input = Input(self.input_size)\n",
    "        x = dis_input\n",
    "        \n",
    "        for i, c in enumerate(zip(dis_conv_filters, dis_conv_kernel, dis_conv_strides)):\n",
    "            f, k, s = c\n",
    "            x = Conv2D(f, kernel_size=k, strides=s, padding=\"same\", name=f\"disc_conv_{i}\")(x)\n",
    "            x = BatchNormalization(momentum=dis_momentum)(x)\n",
    "            x = Activation('relu')(x)\n",
    "            x = Dropout(rate = dis_dropout)(x)\n",
    "        x = Flatten()(x)\n",
    "        dis_output = Dense(1, activation='sigmoid', kernel_initializer=RandomNormal(mean=0., stddev=0.02))(x)\n",
    "        self.discriminator = Model(dis_input, dis_output)\n",
    "        \n",
    "        # Generator \n",
    "        z_dim = 100\n",
    "        gen_initial_dense_size = (7, 7, 64)\n",
    "        gen_momentum = 0.9\n",
    "        \n",
    "        gen_input = Input((z_dim,))\n",
    "        x = gen_input\n",
    "        \n",
    "        x = Dense(np.prod(gen_initial_dense_size))(x)\n",
    "        x = BatchNormalization(momentum=gen_momentum)(x)\n",
    "        x = Activation('relu')\n",
    "        x = Reshape(gen_initial_dense_size)(x)\n",
    "        \n",
    "        \n",
    "        "
   ]
  },
  {
   "cell_type": "code",
   "execution_count": 37,
   "metadata": {},
   "outputs": [],
   "source": [
    "gan = Gan((28,28,1))"
   ]
  },
  {
   "cell_type": "code",
   "execution_count": 38,
   "metadata": {},
   "outputs": [
    {
     "data": {
      "text/plain": [
       "3136"
      ]
     },
     "execution_count": 38,
     "metadata": {},
     "output_type": "execute_result"
    }
   ],
   "source": [
    "np.prod((7,7,64))"
   ]
  },
  {
   "cell_type": "code",
   "execution_count": null,
   "metadata": {},
   "outputs": [],
   "source": []
  }
 ],
 "metadata": {
  "kernelspec": {
   "display_name": "generative-env",
   "language": "python",
   "name": "generative-env"
  },
  "language_info": {
   "codemirror_mode": {
    "name": "ipython",
    "version": 3
   },
   "file_extension": ".py",
   "mimetype": "text/x-python",
   "name": "python",
   "nbconvert_exporter": "python",
   "pygments_lexer": "ipython3",
   "version": "3.6.8"
  }
 },
 "nbformat": 4,
 "nbformat_minor": 4
}
